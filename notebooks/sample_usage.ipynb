{
 "cells": [
  {
   "cell_type": "markdown",
   "id": "beb653c8",
   "metadata": {},
   "source": [
    "### Prediction\n",
    "\n"
   ]
  },
  {
   "cell_type": "markdown",
   "id": "c3d736e5",
   "metadata": {},
   "source": [
    "#### Importing Libraries"
   ]
  },
  {
   "cell_type": "code",
   "execution_count": 8,
   "id": "7a722c29",
   "metadata": {},
   "outputs": [],
   "source": [
    "import dill\n",
    "import numpy as np\n",
    "import pandas as pd"
   ]
  },
  {
   "cell_type": "code",
   "execution_count": 9,
   "id": "dbf9c475",
   "metadata": {},
   "outputs": [],
   "source": [
    "model_path = r\"../models/dynamic_pricing_model.pkl\"\n",
    "scaler_path = r\"../models/standard_scaler.pkl\"\n",
    "with open(model_path, \"rb\") as f:\n",
    "    model = dill.load(f)\n",
    "with open(scaler_path, \"rb\") as f:\n",
    "    scaler = dill.load(f)"
   ]
  },
  {
   "cell_type": "code",
   "execution_count": 10,
   "id": "b1065af4",
   "metadata": {},
   "outputs": [
    {
     "name": "stdout",
     "output_type": "stream",
     "text": [
      "Predicted price: [492.07521335]\n"
     ]
    },
    {
     "name": "stderr",
     "output_type": "stream",
     "text": [
      "C:\\Users\\sudhir\\AppData\\Local\\Temp\\ipykernel_5516\\2594863263.py:25: RankWarning: Polyfit may be poorly conditioned\n",
      "  coefficients = np.polyfit(number_of_riders.ravel(), number_of_drivers.ravel(), deg=2)\n",
      "c:\\D Drive\\Projects\\Dynamic Pricing Engine\\.venv\\Lib\\site-packages\\sklearn\\utils\\validation.py:2749: UserWarning: X does not have valid feature names, but StandardScaler was fitted with feature names\n",
      "  warnings.warn(\n"
     ]
    }
   ],
   "source": [
    "# Function to map vehicle type to numeric value\n",
    "def get_vehicle_type_numeric(vehicle_type):\n",
    "    # Define a mapping from vehicle type to numeric value\n",
    "    vehicle_type_mapping = {\n",
    "        \"Premium\": 1,\n",
    "        \"Economy\": 0\n",
    "    }\n",
    "    # Get the numeric value for the given vehicle type\n",
    "    vehicle_type_numeric = vehicle_type_mapping.get(vehicle_type)\n",
    "    return vehicle_type_numeric\n",
    "  \n",
    "# Predicting price using user input values\n",
    "def predict_price(number_of_riders, number_of_drivers, Expected_Ride_Duration, vehicle_type):\n",
    "    # Convert vehicle type to numeric representation\n",
    "    vehicle_type_numeric = get_vehicle_type_numeric(vehicle_type)\n",
    "    # Raise error if vehicle type is invalid\n",
    "    if vehicle_type_numeric is None:\n",
    "        raise ValueError(\"Invalid vehicle type\")\n",
    "    \n",
    "    # Convert lists to numpy arrays for numerical computation\n",
    "    number_of_riders = np.array(number_of_riders)\n",
    "    number_of_drivers = np.array(number_of_drivers)\n",
    "    \n",
    "    # Fit a polynomial regression model to the data\n",
    "    coefficients = np.polyfit(number_of_riders.ravel(), number_of_drivers.ravel(), deg=2)\n",
    "    poly = np.poly1d(coefficients)\n",
    "    \n",
    "    # Calculate division feature\n",
    "    division_feature = poly(number_of_riders / number_of_drivers)\n",
    "    \n",
    "    # Create input data array for prediction\n",
    "    input_data = np.array([number_of_riders, number_of_drivers, Expected_Ride_Duration, vehicle_type_numeric, division_feature])\n",
    "    \n",
    "    # Reshape input data for compatibility with the model\n",
    "    input = pd.DataFrame(input_data.reshape(1, -1))\n",
    "    \n",
    "    # Scale input data using scaler object\n",
    "    scaled_input_data = scaler.transform(input)\n",
    "    \n",
    "    # Make price prediction using the model\n",
    "    predicted_price = model.predict(scaled_input_data)\n",
    "    return predicted_price\n",
    "\n",
    "# Example prediction using user input values\n",
    "user_number_of_riders = 42\n",
    "user_number_of_drivers = 31\n",
    "user_vehicle_type = \"Premium\"\n",
    "Expected_Ride_Duration = 76\n",
    "predicted_price = predict_price(user_number_of_riders, user_number_of_drivers, Expected_Ride_Duration, user_vehicle_type)\n",
    "\n",
    "# Print the predicted price\n",
    "print(\"Predicted price:\", np.expm1(predicted_price))\n"
   ]
  }
 ],
 "metadata": {
  "kernelspec": {
   "display_name": ".venv",
   "language": "python",
   "name": "python3"
  },
  "language_info": {
   "codemirror_mode": {
    "name": "ipython",
    "version": 3
   },
   "file_extension": ".py",
   "mimetype": "text/x-python",
   "name": "python",
   "nbconvert_exporter": "python",
   "pygments_lexer": "ipython3",
   "version": "3.11.4"
  }
 },
 "nbformat": 4,
 "nbformat_minor": 5
}
