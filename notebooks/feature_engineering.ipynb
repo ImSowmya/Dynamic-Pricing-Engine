{
 "cells": [
  {
   "cell_type": "markdown",
   "id": "57716ee3",
   "metadata": {},
   "source": [
    "# <a id='fifth'></a> Feature Engineering"
   ]
  },
  {
   "cell_type": "markdown",
   "id": "a09ac0ff",
   "metadata": {},
   "source": [
    "### Dynamic Pricing Calculation\n",
    "\n",
    "This section of code calculates the dynamic pricing adjustments for rides based on demand and supply factors. Here's a breakdown of the process:\n",
    "\n",
    "1. **Demand Multiplier Calculation**:\n",
    "   - `high_demand_percentile` and `low_demand_percentile` are defined to set the percentiles for high and low demand, respectively.\n",
    "   - The `demand_multiplier` is calculated based on the percentile for high and low demand. For each ride, it compares the number of riders (`Number_of_Riders`) with the respective percentiles. If the number of riders is above the high demand percentile, it divides the number of riders by the high demand percentile value. If it's below the low demand percentile, it divides by the low demand percentile value.\n",
    "\n",
    "2. **Supply Multiplier Calculation**:\n",
    "   - Similar to demand, `high_supply_percentile` and `low_supply_percentile` are defined for setting the percentiles for high and low supply, respectively.\n",
    "   - The `supply_multiplier` is calculated based on the percentile for high and low supply. For each ride, it compares the number of drivers (`Number_of_Drivers`) with the respective percentiles. If the number of drivers is above the low supply percentile, it divides the high supply percentile value by the number of drivers. If it's below the low supply percentile, it divides the low supply percentile value by the number of drivers.\n",
    "\n",
    "3. **Price Adjustment Factors**:\n",
    "   - `demand_threshold_high`, `demand_threshold_low`, `supply_threshold_high`, and `supply_threshold_low` are defined to set the thresholds for high and low demand/supply.\n",
    "\n",
    "4. **Adjusted Ride Cost Calculation**:\n",
    "   - The `adjusted_ride_cost` is calculated based on the historical cost of the ride (`Historical_Cost_of_Ride`) and the dynamic pricing adjustments determined by the demand and supply multipliers. It takes the maximum of demand multiplier and demand threshold low, and the maximum of supply multiplier and supply threshold high, then multiplies these values with the historical cost of the ride.\n",
    "\n",
    "Overall, this process adjusts the ride cost dynamically based on demand and supply conditions to optimize pricing and maximize revenue."
   ]
  },
  {
   "cell_type": "markdown",
   "id": "b6bee55b",
   "metadata": {},
   "source": [
    "# <a id='first'></a> Importing Libraries & Loading Data"
   ]
  },
  {
   "cell_type": "code",
   "execution_count": 31,
   "id": "8ce67d20",
   "metadata": {},
   "outputs": [],
   "source": [
    "# Ignore Warnings\n",
    "import warnings\n",
    "\n",
    "# Data Manipulation\n",
    "import pandas as pd\n",
    "import numpy as np\n",
    "\n",
    "# Data Visualization\n",
    "import matplotlib.pyplot as plt\n",
    "import seaborn as sns\n",
    "\n",
    "# Data Transformation\n",
    "from scipy.special import boxcox1p\n",
    "from scipy.stats import boxcox_normmax"
   ]
  },
  {
   "cell_type": "code",
   "execution_count": 32,
   "id": "37503900",
   "metadata": {},
   "outputs": [
    {
     "data": {
      "text/html": [
       "<div>\n",
       "<style scoped>\n",
       "    .dataframe tbody tr th:only-of-type {\n",
       "        vertical-align: middle;\n",
       "    }\n",
       "\n",
       "    .dataframe tbody tr th {\n",
       "        vertical-align: top;\n",
       "    }\n",
       "\n",
       "    .dataframe thead th {\n",
       "        text-align: right;\n",
       "    }\n",
       "</style>\n",
       "<table border=\"1\" class=\"dataframe\">\n",
       "  <thead>\n",
       "    <tr style=\"text-align: right;\">\n",
       "      <th></th>\n",
       "      <th>Number_of_Riders</th>\n",
       "      <th>Number_of_Drivers</th>\n",
       "      <th>Location_Category</th>\n",
       "      <th>Customer_Loyalty_Status</th>\n",
       "      <th>Number_of_Past_Rides</th>\n",
       "      <th>Average_Ratings</th>\n",
       "      <th>Time_of_Booking</th>\n",
       "      <th>Vehicle_Type</th>\n",
       "      <th>Expected_Ride_Duration</th>\n",
       "      <th>Historical_Cost_of_Ride</th>\n",
       "    </tr>\n",
       "  </thead>\n",
       "  <tbody>\n",
       "    <tr>\n",
       "      <th>0</th>\n",
       "      <td>90</td>\n",
       "      <td>45</td>\n",
       "      <td>Urban</td>\n",
       "      <td>Silver</td>\n",
       "      <td>13</td>\n",
       "      <td>4.47</td>\n",
       "      <td>Night</td>\n",
       "      <td>Premium</td>\n",
       "      <td>90</td>\n",
       "      <td>284.257273</td>\n",
       "    </tr>\n",
       "    <tr>\n",
       "      <th>1</th>\n",
       "      <td>58</td>\n",
       "      <td>39</td>\n",
       "      <td>Suburban</td>\n",
       "      <td>Silver</td>\n",
       "      <td>72</td>\n",
       "      <td>4.06</td>\n",
       "      <td>Evening</td>\n",
       "      <td>Economy</td>\n",
       "      <td>43</td>\n",
       "      <td>173.874753</td>\n",
       "    </tr>\n",
       "    <tr>\n",
       "      <th>2</th>\n",
       "      <td>42</td>\n",
       "      <td>31</td>\n",
       "      <td>Rural</td>\n",
       "      <td>Silver</td>\n",
       "      <td>0</td>\n",
       "      <td>3.99</td>\n",
       "      <td>Afternoon</td>\n",
       "      <td>Premium</td>\n",
       "      <td>76</td>\n",
       "      <td>329.795469</td>\n",
       "    </tr>\n",
       "    <tr>\n",
       "      <th>3</th>\n",
       "      <td>89</td>\n",
       "      <td>28</td>\n",
       "      <td>Rural</td>\n",
       "      <td>Regular</td>\n",
       "      <td>67</td>\n",
       "      <td>4.31</td>\n",
       "      <td>Afternoon</td>\n",
       "      <td>Premium</td>\n",
       "      <td>134</td>\n",
       "      <td>470.201232</td>\n",
       "    </tr>\n",
       "    <tr>\n",
       "      <th>4</th>\n",
       "      <td>78</td>\n",
       "      <td>22</td>\n",
       "      <td>Rural</td>\n",
       "      <td>Regular</td>\n",
       "      <td>74</td>\n",
       "      <td>3.77</td>\n",
       "      <td>Afternoon</td>\n",
       "      <td>Economy</td>\n",
       "      <td>149</td>\n",
       "      <td>579.681422</td>\n",
       "    </tr>\n",
       "  </tbody>\n",
       "</table>\n",
       "</div>"
      ],
      "text/plain": [
       "   Number_of_Riders  Number_of_Drivers Location_Category  \\\n",
       "0                90                 45             Urban   \n",
       "1                58                 39          Suburban   \n",
       "2                42                 31             Rural   \n",
       "3                89                 28             Rural   \n",
       "4                78                 22             Rural   \n",
       "\n",
       "  Customer_Loyalty_Status  Number_of_Past_Rides  Average_Ratings  \\\n",
       "0                  Silver                    13             4.47   \n",
       "1                  Silver                    72             4.06   \n",
       "2                  Silver                     0             3.99   \n",
       "3                 Regular                    67             4.31   \n",
       "4                 Regular                    74             3.77   \n",
       "\n",
       "  Time_of_Booking Vehicle_Type  Expected_Ride_Duration  \\\n",
       "0           Night      Premium                      90   \n",
       "1         Evening      Economy                      43   \n",
       "2       Afternoon      Premium                      76   \n",
       "3       Afternoon      Premium                     134   \n",
       "4       Afternoon      Economy                     149   \n",
       "\n",
       "   Historical_Cost_of_Ride  \n",
       "0               284.257273  \n",
       "1               173.874753  \n",
       "2               329.795469  \n",
       "3               470.201232  \n",
       "4               579.681422  "
      ]
     },
     "execution_count": 32,
     "metadata": {},
     "output_type": "execute_result"
    }
   ],
   "source": [
    "# Path to the CSV data file\n",
    "ORIGINAL_DATASET_PATH = \"../data/dynamic_pricing_raw.csv\" \n",
    "\n",
    "# Reading data from the CSV file into a DataFrame using the first column as the index\n",
    "df = pd.read_csv(ORIGINAL_DATASET_PATH)\n",
    "\n",
    "# Displaying the first few rows of the DataFrame\n",
    "df.head()"
   ]
  },
  {
   "cell_type": "code",
   "execution_count": 33,
   "id": "346ca18d",
   "metadata": {},
   "outputs": [],
   "source": [
    "# Calculate demand_multiplier based on percentile for high and low demand\n",
    "high_demand_percentile = 75\n",
    "low_demand_percentile = 25\n",
    "\n",
    "df['demand_multiplier'] = np.where(df['Number_of_Riders'] > np.percentile(df['Number_of_Riders'], high_demand_percentile),\n",
    "                                   df['Number_of_Riders'] / np.percentile(df['Number_of_Riders'], high_demand_percentile),\n",
    "                                   df['Number_of_Riders'] / np.percentile(df['Number_of_Riders'], low_demand_percentile))\n",
    "\n",
    "# Calculate supply_multiplier based on percentile for high and low supply\n",
    "high_supply_percentile = 75\n",
    "low_supply_percentile = 25\n",
    "\n",
    "df['supply_multiplier'] = np.where(df['Number_of_Drivers'] > np.percentile(df['Number_of_Drivers'], low_supply_percentile),\n",
    "                                   np.percentile(df['Number_of_Drivers'], high_supply_percentile) / df['Number_of_Drivers'], \n",
    "                                   np.percentile(df['Number_of_Drivers'], low_supply_percentile) / df['Number_of_Drivers'])\n",
    "\n",
    "# Define price adjustment factors for high and low demand/supply\n",
    "demand_threshold_high = 1.2  # Higher demand threshold\n",
    "demand_threshold_low = 0.8  # Lower demand threshold\n",
    "supply_threshold_high = 0.8  # Higher supply threshold\n",
    "supply_threshold_low = 1.2  # Lower supply threshold\n",
    "\n",
    "# Calculate adjusted_ride_cost for dynamic pricing\n",
    "df['adjusted_ride_cost'] = df['Historical_Cost_of_Ride'] * (\n",
    "    np.maximum(df['demand_multiplier'], demand_threshold_low) *\n",
    "    np.maximum(df['supply_multiplier'], supply_threshold_high)\n",
    ")"
   ]
  },
  {
   "cell_type": "code",
   "execution_count": 34,
   "id": "249987ea",
   "metadata": {},
   "outputs": [
    {
     "data": {
      "text/html": [
       "<div>\n",
       "<style scoped>\n",
       "    .dataframe tbody tr th:only-of-type {\n",
       "        vertical-align: middle;\n",
       "    }\n",
       "\n",
       "    .dataframe tbody tr th {\n",
       "        vertical-align: top;\n",
       "    }\n",
       "\n",
       "    .dataframe thead th {\n",
       "        text-align: right;\n",
       "    }\n",
       "</style>\n",
       "<table border=\"1\" class=\"dataframe\">\n",
       "  <thead>\n",
       "    <tr style=\"text-align: right;\">\n",
       "      <th></th>\n",
       "      <th>Number_of_Riders</th>\n",
       "      <th>Number_of_Drivers</th>\n",
       "      <th>Location_Category</th>\n",
       "      <th>Customer_Loyalty_Status</th>\n",
       "      <th>Number_of_Past_Rides</th>\n",
       "      <th>Average_Ratings</th>\n",
       "      <th>Time_of_Booking</th>\n",
       "      <th>Vehicle_Type</th>\n",
       "      <th>Expected_Ride_Duration</th>\n",
       "      <th>Historical_Cost_of_Ride</th>\n",
       "      <th>demand_multiplier</th>\n",
       "      <th>supply_multiplier</th>\n",
       "      <th>adjusted_ride_cost</th>\n",
       "    </tr>\n",
       "  </thead>\n",
       "  <tbody>\n",
       "    <tr>\n",
       "      <th>0</th>\n",
       "      <td>90</td>\n",
       "      <td>45</td>\n",
       "      <td>Urban</td>\n",
       "      <td>Silver</td>\n",
       "      <td>13</td>\n",
       "      <td>4.47</td>\n",
       "      <td>Night</td>\n",
       "      <td>Premium</td>\n",
       "      <td>90</td>\n",
       "      <td>284.257273</td>\n",
       "      <td>1.111111</td>\n",
       "      <td>0.844444</td>\n",
       "      <td>266.710528</td>\n",
       "    </tr>\n",
       "    <tr>\n",
       "      <th>1</th>\n",
       "      <td>58</td>\n",
       "      <td>39</td>\n",
       "      <td>Suburban</td>\n",
       "      <td>Silver</td>\n",
       "      <td>72</td>\n",
       "      <td>4.06</td>\n",
       "      <td>Evening</td>\n",
       "      <td>Economy</td>\n",
       "      <td>43</td>\n",
       "      <td>173.874753</td>\n",
       "      <td>1.450000</td>\n",
       "      <td>0.974359</td>\n",
       "      <td>245.653817</td>\n",
       "    </tr>\n",
       "    <tr>\n",
       "      <th>2</th>\n",
       "      <td>42</td>\n",
       "      <td>31</td>\n",
       "      <td>Rural</td>\n",
       "      <td>Silver</td>\n",
       "      <td>0</td>\n",
       "      <td>3.99</td>\n",
       "      <td>Afternoon</td>\n",
       "      <td>Premium</td>\n",
       "      <td>76</td>\n",
       "      <td>329.795469</td>\n",
       "      <td>1.050000</td>\n",
       "      <td>1.225806</td>\n",
       "      <td>424.478684</td>\n",
       "    </tr>\n",
       "    <tr>\n",
       "      <th>3</th>\n",
       "      <td>89</td>\n",
       "      <td>28</td>\n",
       "      <td>Rural</td>\n",
       "      <td>Regular</td>\n",
       "      <td>67</td>\n",
       "      <td>4.31</td>\n",
       "      <td>Afternoon</td>\n",
       "      <td>Premium</td>\n",
       "      <td>134</td>\n",
       "      <td>470.201232</td>\n",
       "      <td>1.098765</td>\n",
       "      <td>1.357143</td>\n",
       "      <td>701.155452</td>\n",
       "    </tr>\n",
       "    <tr>\n",
       "      <th>4</th>\n",
       "      <td>78</td>\n",
       "      <td>22</td>\n",
       "      <td>Rural</td>\n",
       "      <td>Regular</td>\n",
       "      <td>74</td>\n",
       "      <td>3.77</td>\n",
       "      <td>Afternoon</td>\n",
       "      <td>Economy</td>\n",
       "      <td>149</td>\n",
       "      <td>579.681422</td>\n",
       "      <td>1.950000</td>\n",
       "      <td>1.727273</td>\n",
       "      <td>1952.472427</td>\n",
       "    </tr>\n",
       "  </tbody>\n",
       "</table>\n",
       "</div>"
      ],
      "text/plain": [
       "   Number_of_Riders  Number_of_Drivers Location_Category  \\\n",
       "0                90                 45             Urban   \n",
       "1                58                 39          Suburban   \n",
       "2                42                 31             Rural   \n",
       "3                89                 28             Rural   \n",
       "4                78                 22             Rural   \n",
       "\n",
       "  Customer_Loyalty_Status  Number_of_Past_Rides  Average_Ratings  \\\n",
       "0                  Silver                    13             4.47   \n",
       "1                  Silver                    72             4.06   \n",
       "2                  Silver                     0             3.99   \n",
       "3                 Regular                    67             4.31   \n",
       "4                 Regular                    74             3.77   \n",
       "\n",
       "  Time_of_Booking Vehicle_Type  Expected_Ride_Duration  \\\n",
       "0           Night      Premium                      90   \n",
       "1         Evening      Economy                      43   \n",
       "2       Afternoon      Premium                      76   \n",
       "3       Afternoon      Premium                     134   \n",
       "4       Afternoon      Economy                     149   \n",
       "\n",
       "   Historical_Cost_of_Ride  demand_multiplier  supply_multiplier  \\\n",
       "0               284.257273           1.111111           0.844444   \n",
       "1               173.874753           1.450000           0.974359   \n",
       "2               329.795469           1.050000           1.225806   \n",
       "3               470.201232           1.098765           1.357143   \n",
       "4               579.681422           1.950000           1.727273   \n",
       "\n",
       "   adjusted_ride_cost  \n",
       "0          266.710528  \n",
       "1          245.653817  \n",
       "2          424.478684  \n",
       "3          701.155452  \n",
       "4         1952.472427  "
      ]
     },
     "execution_count": 34,
     "metadata": {},
     "output_type": "execute_result"
    }
   ],
   "source": [
    "df.head()"
   ]
  },
  {
   "cell_type": "markdown",
   "id": "d547ce1f",
   "metadata": {},
   "source": [
    "### Profitability Analysis of Rides\n",
    "\n",
    "This section of code analyzes the profitability of rides by comparing the adjusted ride cost (calculated using dynamic pricing) with the historical cost of the ride. Here's a breakdown of the process:\n",
    "\n",
    "1. **Profit Percentage Calculation**:\n",
    "   - The profit percentage for each ride is calculated using the formula:\n",
    "   \n",
    "     $\n",
    "     \\text{Profit Percentage} = \\left( \\frac{{\\text{Adjusted Ride Cost} - \\text{Historical Cost of Ride}}}{{\\text{Historical Cost of Ride}}} \\right) \\times 100\n",
    "     $\n",
    "   - This formula computes the percentage increase or decrease in the cost of the ride after applying dynamic pricing compared to its historical cost.\n",
    "\n",
    "2. **Identification of Profitable and Loss Rides**:\n",
    "   - Profitable rides are identified where the profit percentage is positive.\n",
    "   - Loss rides are identified where the profit percentage is negative.\n",
    "\n",
    "3. **Counting of Profitable and Loss Rides**:\n",
    "   - The count of profitable and loss rides is calculated.\n",
    "\n",
    "4. **Visualization using Donut Chart**:\n",
    "   - A donut chart is created to visualize the distribution of profitable and loss rides.\n",
    "   - Labels and values are defined for 'Profitable Rides' and 'Loss Rides'.\n",
    "\n",
    "Overall, this analysis provides insights into the impact of dynamic pricing on the profitability of rides, helping to understand the effectiveness of the pricing strategy in maximizing revenue."
   ]
  },
  {
   "cell_type": "code",
   "execution_count": 35,
   "id": "ff585284",
   "metadata": {},
   "outputs": [
    {
     "data": {
      "image/png": "[encoded data removed]",
      "text/plain": [
       "<Figure size 700x700 with 1 Axes>"
      ]
     },
     "metadata": {},
     "output_type": "display_data"
    }
   ],
   "source": [
    "# Calculate the profit percentage for each ride\n",
    "df['profit_percentage'] = ((df['adjusted_ride_cost'] - df['Historical_Cost_of_Ride']) / df['Historical_Cost_of_Ride']) * 100\n",
    "# Identify profitable rides where profit percentage is positive\n",
    "profitable_rides = df[df['profit_percentage'] > 0]\n",
    "\n",
    "# Identify loss rides where profit percentage is negative\n",
    "loss_rides = df[df['profit_percentage'] < 0]\n",
    "\n",
    "# Calculate the count of profitable and loss rides\n",
    "profitable_count = len(profitable_rides)\n",
    "loss_count = len(loss_rides)\n",
    "\n",
    "# Create a donut chart to show the distribution of profitable and loss rides\n",
    "labels = ['Profitable Rides', 'Loss Rides']\n",
    "values = [profitable_count, loss_count]\n",
    "\n",
    "plt.figure(figsize=(7, 7))\n",
    "\n",
    "# Create a pie chart\n",
    "plt.pie(values, labels=labels, autopct='%1.1f%%', startangle=140, \n",
    "        colors = ['#638889', '#f28585'], labeldistance = 1.1,\n",
    "                  pctdistance = 0.85, normalize=True\n",
    ")\n",
    "\n",
    "# Draw a circle in the center to create a ring\n",
    "centre_circle = plt.Circle((0,0),0.70,fc='white')\n",
    "fig = plt.gcf()\n",
    "fig.gca().add_artist(centre_circle)\n",
    "\n",
    "# Equal aspect ratio ensures that pie is drawn as a circle\n",
    "plt.axis('equal')\n",
    "plt.title('Profitability of Rides (Dynamic Pricing vs. Historical Pricing)')\n",
    "\n",
    "\n",
    "plt.show()"
   ]
  },
  {
   "cell_type": "markdown",
   "id": "e2c66679",
   "metadata": {},
   "source": [
    "### Log Transformation of Target Variable\n",
    "\n",
    "In this code snippet, the target variable `adjusted_ride_cost` is transformed using the natural logarithm plus one transformation (`np.log1p`). This transformation is commonly used to deal with skewed distributions and heteroscedasticity in regression analysis.\n",
    "\n",
    "#### Log Transformation:\n",
    "- The `np.log1p` function applies the natural logarithm transformation plus one to each value of the target variable `adjusted_ride_cost`.\n",
    "- Adding one before taking the logarithm helps avoid errors when the original value is zero.\n",
    "\n",
    "#### Benefits of Log Transformation:\n",
    "- **Normalization**: Log transformation can help normalize the distribution of the target variable, making it more symmetric.\n",
    "- **Homoscedasticity**: It can stabilize the variance of the target variable, making it more homoscedastic.\n",
    "- **Linear Relationships**: Log-transformed variables often result in more linear relationships with predictor variables in regression models.\n",
    "\n",
    "#### Considerations:\n",
    "- Log transformation is suitable for variables with right-skewed or positively skewed distributions.\n",
    "- However, it may not be appropriate for variables with zero or negative values."
   ]
  },
  {
   "cell_type": "code",
   "execution_count": 36,
   "id": "e795003a",
   "metadata": {},
   "outputs": [
    {
     "name": "stdout",
     "output_type": "stream",
     "text": [
      "Skewness:  1.58\n"
     ]
    }
   ],
   "source": [
    "# Calculate the skewness of the target variable 'TARGET' and round the result to 2 decimal places\n",
    "print(\"Skewness: \", round(df['adjusted_ride_cost'].skew(), 2))"
   ]
  },
  {
   "cell_type": "code",
   "execution_count": 37,
   "id": "9afa0fb2",
   "metadata": {},
   "outputs": [
    {
     "data": {
      "image/png": "[encoded data removed]",
      "text/plain": [
       "<Figure size 800x600 with 1 Axes>"
      ]
     },
     "metadata": {},
     "output_type": "display_data"
    }
   ],
   "source": [
    "# Create a new figure with a specified size (8 inches width, 6 inches height)\n",
    "plt.figure(figsize=(8, 6))\n",
    "\n",
    "# Calculate the mean and median of the 'adjusted_ride_cost' column\n",
    "mean_values = df['adjusted_ride_cost'].mean()\n",
    "median = df['adjusted_ride_cost'].median()\n",
    "\n",
    "# Add vertical lines for mean and median to the plot\n",
    "plt.axvline(x=mean_values, color='#F28585', linestyle='--', label='Mean')\n",
    "plt.axvline(x=median, color='#747264', linestyle='--', label='Median')\n",
    "\n",
    "# Create a histogram plot with KDE (Kernel Density Estimation)\n",
    "sns.histplot(df['adjusted_ride_cost'], kde=True, color='#638889')\n",
    "\n",
    "# Add grid lines to the plot\n",
    "plt.grid(True)\n",
    "\n",
    "# Display the plot\n",
    "plt.show()"
   ]
  },
  {
   "cell_type": "code",
   "execution_count": 38,
   "id": "1f625b65",
   "metadata": {},
   "outputs": [],
   "source": [
    "# Apply the natural logarithm transformation plus 1 to the target variable 'TARGET'\n",
    "df['adjusted_ride_cost'] = np.log1p(df['adjusted_ride_cost'])"
   ]
  },
  {
   "cell_type": "code",
   "execution_count": 39,
   "id": "57a2d186",
   "metadata": {},
   "outputs": [
    {
     "data": {
      "image/png": "[encoded data removed]",
      "text/plain": [
       "<Figure size 800x600 with 1 Axes>"
      ]
     },
     "metadata": {},
     "output_type": "display_data"
    }
   ],
   "source": [
    "# Create a new figure with a specified size (8 inches width, 6 inches height)\n",
    "plt.figure(figsize=(8, 6))\n",
    "\n",
    "# Calculate the mean and median of the 'adjusted_ride_cost' column\n",
    "mean_value = df['adjusted_ride_cost'].mean()\n",
    "median = df['adjusted_ride_cost'].median()\n",
    "\n",
    "# Plot vertical lines indicating mean and median on the histogram plot\n",
    "plt.axvline(x=mean_value, color='#F28585', linestyle='--', label='Mean')\n",
    "plt.axvline(x=median, color='#747264', linestyle='--', label='Median')\n",
    "\n",
    "# Create a histogram plot with KDE (Kernel Density Estimation)\n",
    "sns.histplot(df['adjusted_ride_cost'], kde=True, color='#638889')\n",
    "\n",
    "# Add grid lines to the plot\n",
    "plt.grid(True)\n",
    "\n",
    "# Display the plot\n",
    "plt.show()"
   ]
  },
  {
   "cell_type": "code",
   "execution_count": 40,
   "id": "6b2b8aaa",
   "metadata": {},
   "outputs": [
    {
     "name": "stdout",
     "output_type": "stream",
     "text": [
      "Skewness:  -0.72\n"
     ]
    }
   ],
   "source": [
    "# Calculate the skewness of the transformed target variable 'TARGET' and round the result to 2 decimal places\n",
    "print(\"Skewness: \", round(df['adjusted_ride_cost'].skew(), 2))"
   ]
  },
  {
   "cell_type": "markdown",
   "id": "a0bec36b",
   "metadata": {},
   "source": [
    "\n",
    "### Box-Cox Transformation for Skewed Features\n",
    "\n",
    "In this code snippet, a Box-Cox transformation is applied to skewed features in the dataset to reduce skewness and make the distribution more symmetric. Box-Cox transformation is a power transformation technique that is particularly effective for dealing with skewed data.\n",
    "\n",
    "#### Steps:\n",
    "1. **Estimating Lambda Parameter**: The lambda parameter for the Box-Cox transformation is estimated using `boxcox_normmax` function. Adding 2 to each value helps avoid non-positive values, which are not supported by the transformation.\n",
    "2. **Applying Box-Cox Transformation**: The Box-Cox transformation is applied to the feature using the estimated lambda parameter, `lambda_est`.\n",
    "\n",
    "\n",
    "#### Benefits of Box-Cox Transformation:\n",
    "- **Skewness Reduction**: Box-Cox transformation helps reduce skewness in the distribution of the features.\n",
    "- **Normalization**: It can make the distribution more symmetric, which is beneficial for many statistical analyses and machine learning algorithms.\n",
    "\n",
    "#### Considerations:\n",
    "- Box-Cox transformation assumes that the data is continuous and positive.\n",
    "- It may not be suitable for features with zero or negative values.\n",
    "- Care should be taken when estimating the lambda parameter, as incorrect estimation can lead to improper transformation."
   ]
  },
  {
   "cell_type": "code",
   "execution_count": 41,
   "id": "e2d524d5",
   "metadata": {},
   "outputs": [
    {
     "name": "stdout",
     "output_type": "stream",
     "text": [
      "Skewness:  0.96\n"
     ]
    }
   ],
   "source": [
    "# Print the skewness of the transformed 'Number_of_Drivers' column\n",
    "print(\"Skewness: \", round(df['Number_of_Drivers'].skew(), 2))"
   ]
  },
  {
   "cell_type": "code",
   "execution_count": 42,
   "id": "298d8f2d",
   "metadata": {},
   "outputs": [
    {
     "name": "stdout",
     "output_type": "stream",
     "text": [
      "Skewness:  -0.01\n"
     ]
    }
   ],
   "source": [
    "# Estimate the optimal Box-Cox transformation parameter lambda for 'Number_of_Drivers' column\n",
    "lambda_est = boxcox_normmax(df['Number_of_Drivers'] + 2, brack=(-1.5, 1.5))\n",
    "\n",
    "# Apply the Box-Cox transformation to the 'Number_of_Drivers' column using the estimated lambda\n",
    "df['Number_of_Drivers'] = boxcox1p(df['Number_of_Drivers'], lambda_est)\n",
    "\n",
    "# Print the skewness of the transformed 'Number_of_Drivers' column\n",
    "print(\"Skewness: \", round(df['Number_of_Drivers'].skew(), 2))"
   ]
  },
  {
   "cell_type": "markdown",
   "id": "0837ba51",
   "metadata": {},
   "source": [
    "# <a id='sixth'></a> Save the processed dataset"
   ]
  },
  {
   "cell_type": "code",
   "execution_count": 43,
   "id": "cf0be79c",
   "metadata": {},
   "outputs": [],
   "source": [
    "df.to_csv(\"../data/dynamic_pricing_processed.csv\", index=False)"
   ]
  }
 ],
 "metadata": {
  "kernelspec": {
   "display_name": ".venv",
   "language": "python",
   "name": "python3"
  },
  "language_info": {
   "codemirror_mode": {
    "name": "ipython",
    "version": 3
   },
   "file_extension": ".py",
   "mimetype": "text/x-python",
   "name": "python",
   "nbconvert_exporter": "python",
   "pygments_lexer": "ipython3",
   "version": "3.11.4"
  }
 },
 "nbformat": 4,
 "nbformat_minor": 5
}
